{
  "cells": [
    {
      "cell_type": "code",
      "execution_count": null,
      "metadata": {
        "colab": {
          "base_uri": "https://localhost:8080/"
        },
        "id": "M7f7p6rB21xP",
        "outputId": "0e4ef0aa-33bc-4393-af79-086e0f06c1a7"
      },
      "outputs": [
        {
          "name": "stdout",
          "output_type": "stream",
          "text": [
            "Mounted at /content/drive\n"
          ]
        }
      ],
      "source": [
        "from google.colab import drive\n",
        "drive.mount(\"/content/drive\")"
      ]
    },
    {
      "cell_type": "code",
      "execution_count": null,
      "metadata": {
        "colab": {
          "base_uri": "https://localhost:8080/"
        },
        "id": "XxHy-mfQ3wjl",
        "outputId": "e4bb9149-2048-4ce2-fcb0-7bd9b762fbef"
      },
      "outputs": [
        {
          "data": {
            "text/plain": [
              "(284807, 31)"
            ]
          },
          "execution_count": 2,
          "metadata": {},
          "output_type": "execute_result"
        }
      ],
      "source": [
        "import pandas as pd\n",
        "df = pd.read_csv('/content/drive/MyDrive/creditcard.csv')\n",
        "df.shape"
      ]
    },
    {
      "cell_type": "code",
      "execution_count": null,
      "metadata": {
        "colab": {
          "base_uri": "https://localhost:8080/"
        },
        "id": "-TPEMm0i3wc2",
        "outputId": "2b214ab9-85be-4ed4-8534-d8a0be0c3414"
      },
      "outputs": [
        {
          "name": "stdout",
          "output_type": "stream",
          "text": [
            "<class 'pandas.core.frame.DataFrame'>\n",
            "RangeIndex: 284807 entries, 0 to 284806\n",
            "Data columns (total 31 columns):\n",
            " #   Column  Non-Null Count   Dtype  \n",
            "---  ------  --------------   -----  \n",
            " 0   Time    284807 non-null  float64\n",
            " 1   V1      284807 non-null  float64\n",
            " 2   V2      284807 non-null  float64\n",
            " 3   V3      284807 non-null  float64\n",
            " 4   V4      284807 non-null  float64\n",
            " 5   V5      284807 non-null  float64\n",
            " 6   V6      284807 non-null  float64\n",
            " 7   V7      284807 non-null  float64\n",
            " 8   V8      284807 non-null  float64\n",
            " 9   V9      284807 non-null  float64\n",
            " 10  V10     284807 non-null  float64\n",
            " 11  V11     284807 non-null  float64\n",
            " 12  V12     284807 non-null  float64\n",
            " 13  V13     284807 non-null  float64\n",
            " 14  V14     284807 non-null  float64\n",
            " 15  V15     284807 non-null  float64\n",
            " 16  V16     284807 non-null  float64\n",
            " 17  V17     284807 non-null  float64\n",
            " 18  V18     284807 non-null  float64\n",
            " 19  V19     284807 non-null  float64\n",
            " 20  V20     284807 non-null  float64\n",
            " 21  V21     284807 non-null  float64\n",
            " 22  V22     284807 non-null  float64\n",
            " 23  V23     284807 non-null  float64\n",
            " 24  V24     284807 non-null  float64\n",
            " 25  V25     284807 non-null  float64\n",
            " 26  V26     284807 non-null  float64\n",
            " 27  V27     284807 non-null  float64\n",
            " 28  V28     284807 non-null  float64\n",
            " 29  Amount  284807 non-null  float64\n",
            " 30  Class   284807 non-null  int64  \n",
            "dtypes: float64(30), int64(1)\n",
            "memory usage: 67.4 MB\n"
          ]
        }
      ],
      "source": [
        "df.info()\n",
        "# from the dataset we have 30 columns all are numerical columns. here \"class\" variable is the target variable."
      ]
    },
    {
      "cell_type": "code",
      "execution_count": null,
      "metadata": {
        "colab": {
          "base_uri": "https://localhost:8080/"
        },
        "id": "PK7DaRHQ3wZZ",
        "outputId": "1f742e04-bc66-44bb-a20f-4f64773c6c00"
      },
      "outputs": [
        {
          "data": {
            "text/plain": [
              "Time      0\n",
              "V1        0\n",
              "V2        0\n",
              "V3        0\n",
              "V4        0\n",
              "V5        0\n",
              "V6        0\n",
              "V7        0\n",
              "V8        0\n",
              "V9        0\n",
              "V10       0\n",
              "V11       0\n",
              "V12       0\n",
              "V13       0\n",
              "V14       0\n",
              "V15       0\n",
              "V16       0\n",
              "V17       0\n",
              "V18       0\n",
              "V19       0\n",
              "V20       0\n",
              "V21       0\n",
              "V22       0\n",
              "V23       0\n",
              "V24       0\n",
              "V25       0\n",
              "V26       0\n",
              "V27       0\n",
              "V28       0\n",
              "Amount    0\n",
              "Class     0\n",
              "dtype: int64"
            ]
          },
          "execution_count": 4,
          "metadata": {},
          "output_type": "execute_result"
        }
      ],
      "source": [
        "df.isna().sum() # check is there any null values from records."
      ]
    },
    {
      "cell_type": "code",
      "execution_count": null,
      "metadata": {
        "colab": {
          "base_uri": "https://localhost:8080/",
          "height": 456
        },
        "id": "CszbcAlU3wWQ",
        "outputId": "3e2fb874-2131-4ed3-f569-ef4a5575e725"
      },
      "outputs": [
        {
          "data": {
            "text/html": [
              "\n",
              "\n",
              "  <div id=\"df-cd55490d-cce9-463d-9459-6c52b0979be3\">\n",
              "    <div class=\"colab-df-container\">\n",
              "      <div>\n",
              "<style scoped>\n",
              "    .dataframe tbody tr th:only-of-type {\n",
              "        vertical-align: middle;\n",
              "    }\n",
              "\n",
              "    .dataframe tbody tr th {\n",
              "        vertical-align: top;\n",
              "    }\n",
              "\n",
              "    .dataframe thead th {\n",
              "        text-align: right;\n",
              "    }\n",
              "</style>\n",
              "<table border=\"1\" class=\"dataframe\">\n",
              "  <thead>\n",
              "    <tr style=\"text-align: right;\">\n",
              "      <th></th>\n",
              "      <th>Time</th>\n",
              "      <th>V1</th>\n",
              "      <th>V2</th>\n",
              "      <th>V3</th>\n",
              "      <th>V4</th>\n",
              "      <th>V5</th>\n",
              "      <th>V6</th>\n",
              "      <th>V7</th>\n",
              "      <th>V8</th>\n",
              "      <th>V9</th>\n",
              "      <th>...</th>\n",
              "      <th>V21</th>\n",
              "      <th>V22</th>\n",
              "      <th>V23</th>\n",
              "      <th>V24</th>\n",
              "      <th>V25</th>\n",
              "      <th>V26</th>\n",
              "      <th>V27</th>\n",
              "      <th>V28</th>\n",
              "      <th>Amount</th>\n",
              "      <th>Class</th>\n",
              "    </tr>\n",
              "  </thead>\n",
              "  <tbody>\n",
              "    <tr>\n",
              "      <th>0</th>\n",
              "      <td>0.0</td>\n",
              "      <td>-1.359807</td>\n",
              "      <td>-0.072781</td>\n",
              "      <td>2.536347</td>\n",
              "      <td>1.378155</td>\n",
              "      <td>-0.338321</td>\n",
              "      <td>0.462388</td>\n",
              "      <td>0.239599</td>\n",
              "      <td>0.098698</td>\n",
              "      <td>0.363787</td>\n",
              "      <td>...</td>\n",
              "      <td>-0.018307</td>\n",
              "      <td>0.277838</td>\n",
              "      <td>-0.110474</td>\n",
              "      <td>0.066928</td>\n",
              "      <td>0.128539</td>\n",
              "      <td>-0.189115</td>\n",
              "      <td>0.133558</td>\n",
              "      <td>-0.021053</td>\n",
              "      <td>149.62</td>\n",
              "      <td>0</td>\n",
              "    </tr>\n",
              "    <tr>\n",
              "      <th>1</th>\n",
              "      <td>0.0</td>\n",
              "      <td>1.191857</td>\n",
              "      <td>0.266151</td>\n",
              "      <td>0.166480</td>\n",
              "      <td>0.448154</td>\n",
              "      <td>0.060018</td>\n",
              "      <td>-0.082361</td>\n",
              "      <td>-0.078803</td>\n",
              "      <td>0.085102</td>\n",
              "      <td>-0.255425</td>\n",
              "      <td>...</td>\n",
              "      <td>-0.225775</td>\n",
              "      <td>-0.638672</td>\n",
              "      <td>0.101288</td>\n",
              "      <td>-0.339846</td>\n",
              "      <td>0.167170</td>\n",
              "      <td>0.125895</td>\n",
              "      <td>-0.008983</td>\n",
              "      <td>0.014724</td>\n",
              "      <td>2.69</td>\n",
              "      <td>0</td>\n",
              "    </tr>\n",
              "    <tr>\n",
              "      <th>2</th>\n",
              "      <td>1.0</td>\n",
              "      <td>-1.358354</td>\n",
              "      <td>-1.340163</td>\n",
              "      <td>1.773209</td>\n",
              "      <td>0.379780</td>\n",
              "      <td>-0.503198</td>\n",
              "      <td>1.800499</td>\n",
              "      <td>0.791461</td>\n",
              "      <td>0.247676</td>\n",
              "      <td>-1.514654</td>\n",
              "      <td>...</td>\n",
              "      <td>0.247998</td>\n",
              "      <td>0.771679</td>\n",
              "      <td>0.909412</td>\n",
              "      <td>-0.689281</td>\n",
              "      <td>-0.327642</td>\n",
              "      <td>-0.139097</td>\n",
              "      <td>-0.055353</td>\n",
              "      <td>-0.059752</td>\n",
              "      <td>378.66</td>\n",
              "      <td>0</td>\n",
              "    </tr>\n",
              "    <tr>\n",
              "      <th>3</th>\n",
              "      <td>1.0</td>\n",
              "      <td>-0.966272</td>\n",
              "      <td>-0.185226</td>\n",
              "      <td>1.792993</td>\n",
              "      <td>-0.863291</td>\n",
              "      <td>-0.010309</td>\n",
              "      <td>1.247203</td>\n",
              "      <td>0.237609</td>\n",
              "      <td>0.377436</td>\n",
              "      <td>-1.387024</td>\n",
              "      <td>...</td>\n",
              "      <td>-0.108300</td>\n",
              "      <td>0.005274</td>\n",
              "      <td>-0.190321</td>\n",
              "      <td>-1.175575</td>\n",
              "      <td>0.647376</td>\n",
              "      <td>-0.221929</td>\n",
              "      <td>0.062723</td>\n",
              "      <td>0.061458</td>\n",
              "      <td>123.50</td>\n",
              "      <td>0</td>\n",
              "    </tr>\n",
              "    <tr>\n",
              "      <th>4</th>\n",
              "      <td>2.0</td>\n",
              "      <td>-1.158233</td>\n",
              "      <td>0.877737</td>\n",
              "      <td>1.548718</td>\n",
              "      <td>0.403034</td>\n",
              "      <td>-0.407193</td>\n",
              "      <td>0.095921</td>\n",
              "      <td>0.592941</td>\n",
              "      <td>-0.270533</td>\n",
              "      <td>0.817739</td>\n",
              "      <td>...</td>\n",
              "      <td>-0.009431</td>\n",
              "      <td>0.798278</td>\n",
              "      <td>-0.137458</td>\n",
              "      <td>0.141267</td>\n",
              "      <td>-0.206010</td>\n",
              "      <td>0.502292</td>\n",
              "      <td>0.219422</td>\n",
              "      <td>0.215153</td>\n",
              "      <td>69.99</td>\n",
              "      <td>0</td>\n",
              "    </tr>\n",
              "    <tr>\n",
              "      <th>5</th>\n",
              "      <td>2.0</td>\n",
              "      <td>-0.425966</td>\n",
              "      <td>0.960523</td>\n",
              "      <td>1.141109</td>\n",
              "      <td>-0.168252</td>\n",
              "      <td>0.420987</td>\n",
              "      <td>-0.029728</td>\n",
              "      <td>0.476201</td>\n",
              "      <td>0.260314</td>\n",
              "      <td>-0.568671</td>\n",
              "      <td>...</td>\n",
              "      <td>-0.208254</td>\n",
              "      <td>-0.559825</td>\n",
              "      <td>-0.026398</td>\n",
              "      <td>-0.371427</td>\n",
              "      <td>-0.232794</td>\n",
              "      <td>0.105915</td>\n",
              "      <td>0.253844</td>\n",
              "      <td>0.081080</td>\n",
              "      <td>3.67</td>\n",
              "      <td>0</td>\n",
              "    </tr>\n",
              "    <tr>\n",
              "      <th>6</th>\n",
              "      <td>4.0</td>\n",
              "      <td>1.229658</td>\n",
              "      <td>0.141004</td>\n",
              "      <td>0.045371</td>\n",
              "      <td>1.202613</td>\n",
              "      <td>0.191881</td>\n",
              "      <td>0.272708</td>\n",
              "      <td>-0.005159</td>\n",
              "      <td>0.081213</td>\n",
              "      <td>0.464960</td>\n",
              "      <td>...</td>\n",
              "      <td>-0.167716</td>\n",
              "      <td>-0.270710</td>\n",
              "      <td>-0.154104</td>\n",
              "      <td>-0.780055</td>\n",
              "      <td>0.750137</td>\n",
              "      <td>-0.257237</td>\n",
              "      <td>0.034507</td>\n",
              "      <td>0.005168</td>\n",
              "      <td>4.99</td>\n",
              "      <td>0</td>\n",
              "    </tr>\n",
              "    <tr>\n",
              "      <th>7</th>\n",
              "      <td>7.0</td>\n",
              "      <td>-0.644269</td>\n",
              "      <td>1.417964</td>\n",
              "      <td>1.074380</td>\n",
              "      <td>-0.492199</td>\n",
              "      <td>0.948934</td>\n",
              "      <td>0.428118</td>\n",
              "      <td>1.120631</td>\n",
              "      <td>-3.807864</td>\n",
              "      <td>0.615375</td>\n",
              "      <td>...</td>\n",
              "      <td>1.943465</td>\n",
              "      <td>-1.015455</td>\n",
              "      <td>0.057504</td>\n",
              "      <td>-0.649709</td>\n",
              "      <td>-0.415267</td>\n",
              "      <td>-0.051634</td>\n",
              "      <td>-1.206921</td>\n",
              "      <td>-1.085339</td>\n",
              "      <td>40.80</td>\n",
              "      <td>0</td>\n",
              "    </tr>\n",
              "    <tr>\n",
              "      <th>8</th>\n",
              "      <td>7.0</td>\n",
              "      <td>-0.894286</td>\n",
              "      <td>0.286157</td>\n",
              "      <td>-0.113192</td>\n",
              "      <td>-0.271526</td>\n",
              "      <td>2.669599</td>\n",
              "      <td>3.721818</td>\n",
              "      <td>0.370145</td>\n",
              "      <td>0.851084</td>\n",
              "      <td>-0.392048</td>\n",
              "      <td>...</td>\n",
              "      <td>-0.073425</td>\n",
              "      <td>-0.268092</td>\n",
              "      <td>-0.204233</td>\n",
              "      <td>1.011592</td>\n",
              "      <td>0.373205</td>\n",
              "      <td>-0.384157</td>\n",
              "      <td>0.011747</td>\n",
              "      <td>0.142404</td>\n",
              "      <td>93.20</td>\n",
              "      <td>0</td>\n",
              "    </tr>\n",
              "    <tr>\n",
              "      <th>9</th>\n",
              "      <td>9.0</td>\n",
              "      <td>-0.338262</td>\n",
              "      <td>1.119593</td>\n",
              "      <td>1.044367</td>\n",
              "      <td>-0.222187</td>\n",
              "      <td>0.499361</td>\n",
              "      <td>-0.246761</td>\n",
              "      <td>0.651583</td>\n",
              "      <td>0.069539</td>\n",
              "      <td>-0.736727</td>\n",
              "      <td>...</td>\n",
              "      <td>-0.246914</td>\n",
              "      <td>-0.633753</td>\n",
              "      <td>-0.120794</td>\n",
              "      <td>-0.385050</td>\n",
              "      <td>-0.069733</td>\n",
              "      <td>0.094199</td>\n",
              "      <td>0.246219</td>\n",
              "      <td>0.083076</td>\n",
              "      <td>3.68</td>\n",
              "      <td>0</td>\n",
              "    </tr>\n",
              "  </tbody>\n",
              "</table>\n",
              "<p>10 rows × 31 columns</p>\n",
              "</div>\n",
              "      <button class=\"colab-df-convert\" onclick=\"convertToInteractive('df-cd55490d-cce9-463d-9459-6c52b0979be3')\"\n",
              "              title=\"Convert this dataframe to an interactive table.\"\n",
              "              style=\"display:none;\">\n",
              "\n",
              "  <svg xmlns=\"http://www.w3.org/2000/svg\" height=\"24px\"viewBox=\"0 0 24 24\"\n",
              "       width=\"24px\">\n",
              "    <path d=\"M0 0h24v24H0V0z\" fill=\"none\"/>\n",
              "    <path d=\"M18.56 5.44l.94 2.06.94-2.06 2.06-.94-2.06-.94-.94-2.06-.94 2.06-2.06.94zm-11 1L8.5 8.5l.94-2.06 2.06-.94-2.06-.94L8.5 2.5l-.94 2.06-2.06.94zm10 10l.94 2.06.94-2.06 2.06-.94-2.06-.94-.94-2.06-.94 2.06-2.06.94z\"/><path d=\"M17.41 7.96l-1.37-1.37c-.4-.4-.92-.59-1.43-.59-.52 0-1.04.2-1.43.59L10.3 9.45l-7.72 7.72c-.78.78-.78 2.05 0 2.83L4 21.41c.39.39.9.59 1.41.59.51 0 1.02-.2 1.41-.59l7.78-7.78 2.81-2.81c.8-.78.8-2.07 0-2.86zM5.41 20L4 18.59l7.72-7.72 1.47 1.35L5.41 20z\"/>\n",
              "  </svg>\n",
              "      </button>\n",
              "\n",
              "\n",
              "\n",
              "    <div id=\"df-cab6ba11-43a7-419c-8e6a-c675da20673d\">\n",
              "      <button class=\"colab-df-quickchart\" onclick=\"quickchart('df-cab6ba11-43a7-419c-8e6a-c675da20673d')\"\n",
              "              title=\"Suggest charts.\"\n",
              "              style=\"display:none;\">\n",
              "\n",
              "<svg xmlns=\"http://www.w3.org/2000/svg\" height=\"24px\"viewBox=\"0 0 24 24\"\n",
              "     width=\"24px\">\n",
              "    <g>\n",
              "        <path d=\"M19 3H5c-1.1 0-2 .9-2 2v14c0 1.1.9 2 2 2h14c1.1 0 2-.9 2-2V5c0-1.1-.9-2-2-2zM9 17H7v-7h2v7zm4 0h-2V7h2v10zm4 0h-2v-4h2v4z\"/>\n",
              "    </g>\n",
              "</svg>\n",
              "      </button>\n",
              "    </div>\n",
              "\n",
              "<style>\n",
              "  .colab-df-quickchart {\n",
              "    background-color: #E8F0FE;\n",
              "    border: none;\n",
              "    border-radius: 50%;\n",
              "    cursor: pointer;\n",
              "    display: none;\n",
              "    fill: #1967D2;\n",
              "    height: 32px;\n",
              "    padding: 0 0 0 0;\n",
              "    width: 32px;\n",
              "  }\n",
              "\n",
              "  .colab-df-quickchart:hover {\n",
              "    background-color: #E2EBFA;\n",
              "    box-shadow: 0px 1px 2px rgba(60, 64, 67, 0.3), 0px 1px 3px 1px rgba(60, 64, 67, 0.15);\n",
              "    fill: #174EA6;\n",
              "  }\n",
              "\n",
              "  [theme=dark] .colab-df-quickchart {\n",
              "    background-color: #3B4455;\n",
              "    fill: #D2E3FC;\n",
              "  }\n",
              "\n",
              "  [theme=dark] .colab-df-quickchart:hover {\n",
              "    background-color: #434B5C;\n",
              "    box-shadow: 0px 1px 3px 1px rgba(0, 0, 0, 0.15);\n",
              "    filter: drop-shadow(0px 1px 2px rgba(0, 0, 0, 0.3));\n",
              "    fill: #FFFFFF;\n",
              "  }\n",
              "</style>\n",
              "\n",
              "    <script>\n",
              "      async function quickchart(key) {\n",
              "        const containerElement = document.querySelector('#' + key);\n",
              "        const charts = await google.colab.kernel.invokeFunction(\n",
              "            'suggestCharts', [key], {});\n",
              "      }\n",
              "    </script>\n",
              "\n",
              "      <script>\n",
              "\n",
              "function displayQuickchartButton(domScope) {\n",
              "  let quickchartButtonEl =\n",
              "    domScope.querySelector('#df-cab6ba11-43a7-419c-8e6a-c675da20673d button.colab-df-quickchart');\n",
              "  quickchartButtonEl.style.display =\n",
              "    google.colab.kernel.accessAllowed ? 'block' : 'none';\n",
              "}\n",
              "\n",
              "        displayQuickchartButton(document);\n",
              "      </script>\n",
              "      <style>\n",
              "    .colab-df-container {\n",
              "      display:flex;\n",
              "      flex-wrap:wrap;\n",
              "      gap: 12px;\n",
              "    }\n",
              "\n",
              "    .colab-df-convert {\n",
              "      background-color: #E8F0FE;\n",
              "      border: none;\n",
              "      border-radius: 50%;\n",
              "      cursor: pointer;\n",
              "      display: none;\n",
              "      fill: #1967D2;\n",
              "      height: 32px;\n",
              "      padding: 0 0 0 0;\n",
              "      width: 32px;\n",
              "    }\n",
              "\n",
              "    .colab-df-convert:hover {\n",
              "      background-color: #E2EBFA;\n",
              "      box-shadow: 0px 1px 2px rgba(60, 64, 67, 0.3), 0px 1px 3px 1px rgba(60, 64, 67, 0.15);\n",
              "      fill: #174EA6;\n",
              "    }\n",
              "\n",
              "    [theme=dark] .colab-df-convert {\n",
              "      background-color: #3B4455;\n",
              "      fill: #D2E3FC;\n",
              "    }\n",
              "\n",
              "    [theme=dark] .colab-df-convert:hover {\n",
              "      background-color: #434B5C;\n",
              "      box-shadow: 0px 1px 3px 1px rgba(0, 0, 0, 0.15);\n",
              "      filter: drop-shadow(0px 1px 2px rgba(0, 0, 0, 0.3));\n",
              "      fill: #FFFFFF;\n",
              "    }\n",
              "  </style>\n",
              "\n",
              "      <script>\n",
              "        const buttonEl =\n",
              "          document.querySelector('#df-cd55490d-cce9-463d-9459-6c52b0979be3 button.colab-df-convert');\n",
              "        buttonEl.style.display =\n",
              "          google.colab.kernel.accessAllowed ? 'block' : 'none';\n",
              "\n",
              "        async function convertToInteractive(key) {\n",
              "          const element = document.querySelector('#df-cd55490d-cce9-463d-9459-6c52b0979be3');\n",
              "          const dataTable =\n",
              "            await google.colab.kernel.invokeFunction('convertToInteractive',\n",
              "                                                     [key], {});\n",
              "          if (!dataTable) return;\n",
              "\n",
              "          const docLinkHtml = 'Like what you see? Visit the ' +\n",
              "            '<a target=\"_blank\" href=https://colab.research.google.com/notebooks/data_table.ipynb>data table notebook</a>'\n",
              "            + ' to learn more about interactive tables.';\n",
              "          element.innerHTML = '';\n",
              "          dataTable['output_type'] = 'display_data';\n",
              "          await google.colab.output.renderOutput(dataTable, element);\n",
              "          const docLink = document.createElement('div');\n",
              "          docLink.innerHTML = docLinkHtml;\n",
              "          element.appendChild(docLink);\n",
              "        }\n",
              "      </script>\n",
              "    </div>\n",
              "  </div>\n"
            ],
            "text/plain": [
              "   Time        V1        V2        V3        V4        V5        V6        V7  \\\n",
              "0   0.0 -1.359807 -0.072781  2.536347  1.378155 -0.338321  0.462388  0.239599   \n",
              "1   0.0  1.191857  0.266151  0.166480  0.448154  0.060018 -0.082361 -0.078803   \n",
              "2   1.0 -1.358354 -1.340163  1.773209  0.379780 -0.503198  1.800499  0.791461   \n",
              "3   1.0 -0.966272 -0.185226  1.792993 -0.863291 -0.010309  1.247203  0.237609   \n",
              "4   2.0 -1.158233  0.877737  1.548718  0.403034 -0.407193  0.095921  0.592941   \n",
              "5   2.0 -0.425966  0.960523  1.141109 -0.168252  0.420987 -0.029728  0.476201   \n",
              "6   4.0  1.229658  0.141004  0.045371  1.202613  0.191881  0.272708 -0.005159   \n",
              "7   7.0 -0.644269  1.417964  1.074380 -0.492199  0.948934  0.428118  1.120631   \n",
              "8   7.0 -0.894286  0.286157 -0.113192 -0.271526  2.669599  3.721818  0.370145   \n",
              "9   9.0 -0.338262  1.119593  1.044367 -0.222187  0.499361 -0.246761  0.651583   \n",
              "\n",
              "         V8        V9  ...       V21       V22       V23       V24       V25  \\\n",
              "0  0.098698  0.363787  ... -0.018307  0.277838 -0.110474  0.066928  0.128539   \n",
              "1  0.085102 -0.255425  ... -0.225775 -0.638672  0.101288 -0.339846  0.167170   \n",
              "2  0.247676 -1.514654  ...  0.247998  0.771679  0.909412 -0.689281 -0.327642   \n",
              "3  0.377436 -1.387024  ... -0.108300  0.005274 -0.190321 -1.175575  0.647376   \n",
              "4 -0.270533  0.817739  ... -0.009431  0.798278 -0.137458  0.141267 -0.206010   \n",
              "5  0.260314 -0.568671  ... -0.208254 -0.559825 -0.026398 -0.371427 -0.232794   \n",
              "6  0.081213  0.464960  ... -0.167716 -0.270710 -0.154104 -0.780055  0.750137   \n",
              "7 -3.807864  0.615375  ...  1.943465 -1.015455  0.057504 -0.649709 -0.415267   \n",
              "8  0.851084 -0.392048  ... -0.073425 -0.268092 -0.204233  1.011592  0.373205   \n",
              "9  0.069539 -0.736727  ... -0.246914 -0.633753 -0.120794 -0.385050 -0.069733   \n",
              "\n",
              "        V26       V27       V28  Amount  Class  \n",
              "0 -0.189115  0.133558 -0.021053  149.62      0  \n",
              "1  0.125895 -0.008983  0.014724    2.69      0  \n",
              "2 -0.139097 -0.055353 -0.059752  378.66      0  \n",
              "3 -0.221929  0.062723  0.061458  123.50      0  \n",
              "4  0.502292  0.219422  0.215153   69.99      0  \n",
              "5  0.105915  0.253844  0.081080    3.67      0  \n",
              "6 -0.257237  0.034507  0.005168    4.99      0  \n",
              "7 -0.051634 -1.206921 -1.085339   40.80      0  \n",
              "8 -0.384157  0.011747  0.142404   93.20      0  \n",
              "9  0.094199  0.246219  0.083076    3.68      0  \n",
              "\n",
              "[10 rows x 31 columns]"
            ]
          },
          "execution_count": 5,
          "metadata": {},
          "output_type": "execute_result"
        }
      ],
      "source": [
        "df[:10]"
      ]
    },
    {
      "cell_type": "markdown",
      "metadata": {
        "id": "9bLScI-N9KTK"
      },
      "source": [
        "from above it shows from the taget class only a few number of rows are having 1's. Otherwise it contains 0's."
      ]
    },
    {
      "cell_type": "code",
      "execution_count": null,
      "metadata": {
        "colab": {
          "base_uri": "https://localhost:8080/"
        },
        "id": "oxhYtRtcIY0z",
        "outputId": "556d8c84-d2b6-4a0a-e80f-eb3bbdad1575"
      },
      "outputs": [
        {
          "data": {
            "text/plain": [
              "0    284315\n",
              "1       492\n",
              "Name: Class, dtype: int64"
            ]
          },
          "execution_count": 6,
          "metadata": {},
          "output_type": "execute_result"
        }
      ],
      "source": [
        "df['Class'].value_counts()# 284315 are genuine classes and 492 are fraud classes."
      ]
    },
    {
      "cell_type": "code",
      "execution_count": null,
      "metadata": {
        "colab": {
          "base_uri": "https://localhost:8080/",
          "height": 441
        },
        "id": "jSHmw5NI3wSu",
        "outputId": "9b554f8a-6ce5-4629-a023-6a21088518f5"
      },
      "outputs": [
        {
          "name": "stdout",
          "output_type": "stream",
          "text": [
            "Class as pie chart:\n"
          ]
        },
        {
          "data": {
            "text/plain": [
              "Text(0, 0.5, '')"
            ]
          },
          "execution_count": 7,
          "metadata": {},
          "output_type": "execute_result"
        },
        {
          "data": {
            "image/png": "[encoded data removed]",
            "text/plain": [
              "<Figure size 640x480 with 1 Axes>"
            ]
          },
          "metadata": {},
          "output_type": "display_data"
        }
      ],
      "source": [
        "# Check Class variables that has 0 value for Genuine transactions and 1 for Fraud\n",
        "# plot shows 20% are fraud cases and 99.8% are Genuine cases.\n",
        "import matplotlib.pylab as plt\n",
        "\n",
        "print(\"Class as pie chart:\")\n",
        "fig, ax = plt.subplots(1, 1)\n",
        "ax.pie(df.Class.value_counts(),autopct='%1.1f%%', labels=['Genuine','Fraud'], colors=['yellowgreen','r'])\n",
        "plt.axis('equal')\n",
        "plt.ylabel('')"
      ]
    },
    {
      "cell_type": "markdown",
      "metadata": {
        "id": "HBC3CL3ADTV9"
      },
      "source": [
        "Standardize Amount column"
      ]
    },
    {
      "cell_type": "code",
      "execution_count": null,
      "metadata": {
        "id": "aMXTDN9Q-G_F"
      },
      "outputs": [],
      "source": [
        "#scaling the data. This method fits the parameters of the data and then transforms it. This method obtains the feature names for the transformation.\n",
        "# there are min-max scalar, z-score\n",
        "# these methods use for numerical columns.\n",
        "\n",
        "from sklearn.preprocessing import StandardScaler\n",
        "df['scaled_Amount'] = StandardScaler().fit_transform(df['Amount'].values.reshape(-1,1))\n",
        "df = df.drop(['Amount'],axis=1)"
      ]
    },
    {
      "cell_type": "code",
      "execution_count": null,
      "metadata": {
        "colab": {
          "base_uri": "https://localhost:8080/"
        },
        "id": "vd5mQ9ZI-G7n",
        "outputId": "27586786-cd1e-4895-d473-aff785185b53"
      },
      "outputs": [
        {
          "data": {
            "text/plain": [
              "0         0.244964\n",
              "1        -0.342475\n",
              "2         1.160686\n",
              "3         0.140534\n",
              "4        -0.073403\n",
              "            ...   \n",
              "284802   -0.350151\n",
              "284803   -0.254117\n",
              "284804   -0.081839\n",
              "284805   -0.313249\n",
              "284806    0.514355\n",
              "Name: scaled_Amount, Length: 284807, dtype: float64"
            ]
          },
          "execution_count": 9,
          "metadata": {},
          "output_type": "execute_result"
        }
      ],
      "source": [
        "df['scaled_Amount']"
      ]
    },
    {
      "cell_type": "code",
      "execution_count": null,
      "metadata": {
        "colab": {
          "base_uri": "https://localhost:8080/"
        },
        "id": "y-VI04eRNx4M",
        "outputId": "3ba88362-350a-4225-a1d2-2dac98c010fe"
      },
      "outputs": [
        {
          "data": {
            "text/plain": [
              "Index(['Time', 'V1', 'V2', 'V3', 'V4', 'V5', 'V6', 'V7', 'V8', 'V9', 'V10',\n",
              "       'V11', 'V12', 'V13', 'V14', 'V15', 'V16', 'V17', 'V18', 'V19', 'V20',\n",
              "       'V21', 'V22', 'V23', 'V24', 'V25', 'V26', 'V27', 'V28', 'Class',\n",
              "       'scaled_Amount'],\n",
              "      dtype='object')"
            ]
          },
          "execution_count": 10,
          "metadata": {},
          "output_type": "execute_result"
        }
      ],
      "source": [
        "df.columns"
      ]
    },
    {
      "cell_type": "code",
      "execution_count": null,
      "metadata": {
        "colab": {
          "base_uri": "https://localhost:8080/"
        },
        "id": "1fCgEUpI7ObX",
        "outputId": "30e990b7-de07-43e2-8979-651e8f80ea59"
      },
      "outputs": [
        {
          "data": {
            "text/plain": [
              "array([0, 1])"
            ]
          },
          "execution_count": 11,
          "metadata": {},
          "output_type": "execute_result"
        }
      ],
      "source": [
        "df['Class'].unique()"
      ]
    },
    {
      "cell_type": "code",
      "execution_count": null,
      "metadata": {
        "colab": {
          "base_uri": "https://localhost:8080/"
        },
        "id": "EPII0t5d7ioa",
        "outputId": "742e5576-043e-4eb7-c2ca-ecb0e2ed51ec"
      },
      "outputs": [
        {
          "data": {
            "text/plain": [
              "0         False\n",
              "1         False\n",
              "2         False\n",
              "3         False\n",
              "4         False\n",
              "          ...  \n",
              "284802    False\n",
              "284803    False\n",
              "284804    False\n",
              "284805    False\n",
              "284806    False\n",
              "Name: Class, Length: 284807, dtype: bool"
            ]
          },
          "execution_count": 12,
          "metadata": {},
          "output_type": "execute_result"
        }
      ],
      "source": [
        "df['Class'].isnull() # to check is there any null values in target \" class\" variable\n",
        "# df2['Class'].isnull().values.any()\n",
        "\n"
      ]
    },
    {
      "cell_type": "markdown",
      "metadata": {
        "id": "2E6vEzngFJAa"
      },
      "source": [
        "Correlation matrix\n",
        "...Here we will drop some columns from dataframe by looking at Heatmap."
      ]
    },
    {
      "cell_type": "code",
      "execution_count": null,
      "metadata": {
        "colab": {
          "base_uri": "https://localhost:8080/",
          "height": 774
        },
        "id": "G5Ow5ySgCEv9",
        "outputId": "ab6516df-c437-47c4-c739-81f95e65173c"
      },
      "outputs": [
        {
          "data": {
            "image/png": "[encoded data removed]",
            "text/plain": [
              "<Figure size 1200x800 with 2 Axes>"
            ]
          },
          "metadata": {},
          "output_type": "display_data"
        }
      ],
      "source": [
        "# heatmap to check the relation between column features. we can delete columns which values between -0.2 and -0.4\n",
        "import matplotlib.pylab as plt\n",
        "import seaborn as sns\n",
        "plt.figure(figsize=(12,8))\n",
        "sns.heatmap(df.corr())\n",
        "plt.show()"
      ]
    },
    {
      "cell_type": "code",
      "execution_count": null,
      "metadata": {
        "colab": {
          "base_uri": "https://localhost:8080/"
        },
        "id": "lRBih1UNF9EM",
        "outputId": "fe2bf68a-2618-4842-fd07-351a9b57365d"
      },
      "outputs": [
        {
          "data": {
            "text/plain": [
              "(284807, 31)"
            ]
          },
          "execution_count": 14,
          "metadata": {},
          "output_type": "execute_result"
        }
      ],
      "source": [
        "df.shape"
      ]
    },
    {
      "cell_type": "code",
      "execution_count": null,
      "metadata": {
        "colab": {
          "base_uri": "https://localhost:8080/"
        },
        "id": "ktmYk-crF9EP",
        "outputId": "b4c87f34-f0bf-4719-fc77-39882691b192"
      },
      "outputs": [
        {
          "name": "stdout",
          "output_type": "stream",
          "text": [
            "Time            -0.012323\n",
            "V1              -0.101347\n",
            "V2               0.091289\n",
            "V3              -0.192961\n",
            "V4               0.133447\n",
            "V5              -0.094974\n",
            "V6              -0.043643\n",
            "V7              -0.187257\n",
            "V8               0.019875\n",
            "V9              -0.097733\n",
            "V10             -0.216883\n",
            "V11              0.154876\n",
            "V12             -0.260593\n",
            "V13             -0.004570\n",
            "V14             -0.302544\n",
            "V15             -0.004223\n",
            "V16             -0.196539\n",
            "V17             -0.326481\n",
            "V18             -0.111485\n",
            "V19              0.034783\n",
            "V20              0.020090\n",
            "V21              0.040413\n",
            "V22              0.000805\n",
            "V23             -0.002685\n",
            "V24             -0.007221\n",
            "V25              0.003308\n",
            "V26              0.004455\n",
            "V27              0.017580\n",
            "V28              0.009536\n",
            "Class            1.000000\n",
            "scaled_Amount    0.005632\n",
            "Name: Class, dtype: float64\n"
          ]
        }
      ],
      "source": [
        "corr_Class = df.corr()['Class'] #finding correlation of 29 columns with \"class\" column\n",
        "print(corr_Class)"
      ]
    },
    {
      "cell_type": "markdown",
      "metadata": {
        "id": "PFbHO8duPs1T"
      },
      "source": [
        "#Case-1 imbalanced data with columns dropped from datalist."
      ]
    },
    {
      "cell_type": "markdown",
      "metadata": {
        "id": "Dfp09EJYJMGi"
      },
      "source": [
        "Drop features from dataset ['Time_Hr','V28','V27','V26','V25','V24','V23','V22','V20','V15','V13','V8']\n",
        "In the follwing lines of code. Build models on the selected features.\n",
        "\n",
        "selected features = ( total dataset - Drop feature list)\n",
        "\n",
        "Apply GaussianNB method.....(1)"
      ]
    },
    {
      "cell_type": "markdown",
      "metadata": {
        "id": "xJlSvvKF1gNy"
      },
      "source": [
        "Q: What is GaussianNB?\n",
        "\n",
        "Naive Bayes algorithm is widely used for recommendation system, spam filtering and fraud detection. It is a supervised learning mainly used for classification of data and predict the target variable."
      ]
    },
    {
      "cell_type": "markdown",
      "metadata": {
        "id": "5J2MZ8ms4e6z"
      },
      "source": [
        "ACCURACY\n",
        "\n",
        "---accuracy is the percentage of correct classifications that a trained machine learning model achieves, i.e., the number of correct predictions divided by the total number of predictions across all classes.\n",
        "\n",
        "Precision\n",
        "---the quality of a positive prediction made by the model. Precision refers to the number of true positives divided by the total number of positive predictions (i.e., the number of true positives plus the number of false positives).\n",
        "tp/(tp+fp)\n",
        "\n",
        "Recall\n",
        "---the ratio between the numbers of Positive samples correctly classified as Positive to the total number of Positive samples. The recall measures the model's ability to detect positive samples. The higher the recall, the more positive samples detected.\n",
        "\n",
        "tp/(tp+fn)"
      ]
    },
    {
      "cell_type": "code",
      "execution_count": null,
      "metadata": {
        "id": "5J1MNO756ao2"
      },
      "outputs": [],
      "source": [
        "from sklearn.model_selection import train_test_split\n",
        "from sklearn.svm import LinearSVC\n",
        "import collections\n",
        "from collections import Counter\n",
        "\n",
        "from sklearn.metrics import precision_score, recall_score, f1_score, roc_auc_score, accuracy_score, classification_report\n",
        "from imblearn.over_sampling import SMOTE\n",
        "import sklearn.metrics as metrics"
      ]
    },
    {
      "cell_type": "code",
      "execution_count": null,
      "metadata": {
        "colab": {
          "base_uri": "https://localhost:8080/"
        },
        "id": "XM4GPC9SF-M6",
        "outputId": "15311a72-1a83-419d-c924-4d2ded2b417b"
      },
      "outputs": [
        {
          "name": "stdout",
          "output_type": "stream",
          "text": [
            "              precision    recall  f1-score   support\n",
            "\n",
            "           0       1.00      0.98      0.99     56858\n",
            "           1       0.09      0.86      0.17       104\n",
            "\n",
            "    accuracy                           0.98     56962\n",
            "   macro avg       0.55      0.92      0.58     56962\n",
            "weighted avg       1.00      0.98      0.99     56962\n",
            "\n",
            "Accuracy :0.98467\n",
            "Precision : 0.09398\n",
            "Recall : 0.85577\n",
            "F1 : 0.16936\n",
            "\n",
            "\n"
          ]
        },
        {
          "data": {
            "text/plain": [
              "0    56858\n",
              "1      104\n",
              "dtype: int64"
            ]
          },
          "execution_count": 17,
          "metadata": {},
          "output_type": "execute_result"
        }
      ],
      "source": [
        "from sklearn.naive_bayes import GaussianNB\n",
        "drop_list1 = ['Time','V28','V27','V26','V25','V24','V23','V22','V20','V15','V13','V8'] # we are dropping some columns which are very similar. If we delete these columns from dataframe it is not going to affect the model\n",
        "#make a new dataframe df_drop_data. this dataframe contains the colimns after we dropped drop_list from original dataframe \"df\"\n",
        "\n",
        "df_drop_data = df.drop(drop_list1,axis=1)\n",
        "\n",
        "y = df_drop_data['Class'].values #target\n",
        "X = df_drop_data.drop(['Class'],axis=1).values #features\n",
        "\n",
        "\n",
        "X_train1, X_test1, y_train1, y_test1 = train_test_split(X, y, test_size=0.2)\n",
        "\n",
        "gaussian = GaussianNB()\n",
        "gaussian.fit(X_train1, y_train1)\n",
        "\n",
        "# Predict from Test set\n",
        "\n",
        "y_pred1 = gaussian.predict(X_test1)\n",
        "\n",
        "# Model Evolution\n",
        "\n",
        "from sklearn import metrics\n",
        "print(metrics.classification_report(y_test1, y_pred1))\n",
        "\n",
        "print('Accuracy :{0:0.5f}'.format(metrics.accuracy_score(y_pred1 , y_test1)))\n",
        "print('Precision : {0:0.5f}'.format(metrics.precision_score(y_test1 , y_pred1)))\n",
        "print('Recall : {0:0.5f}'.format(metrics.recall_score(y_test1 , y_pred1)))\n",
        "print('F1 : {0:0.5f}'.format(metrics.f1_score(y_test1 , y_pred1)))\n",
        "# print('Confusion Matrix : \\n', cnf_matrix)\n",
        "print(\"\\n\")\n",
        "\n",
        "\n",
        "# Predicted values counts for fraud and genuine of test dataset\n",
        "pd.Series(y_pred1).value_counts()\n",
        "\n",
        "\n",
        "# Actual values counts for fraud and genuine of test dataset\n",
        "pd.Series(y_test1).value_counts()\n"
      ]
    },
    {
      "cell_type": "markdown",
      "metadata": {
        "id": "4sc5ufmBMejx"
      },
      "source": [
        "LogisticRegression..2\n",
        "\n",
        "\n",
        "\n"
      ]
    },
    {
      "cell_type": "markdown",
      "metadata": {
        "id": "l_wHkIbf6o8H"
      },
      "source": [
        "\n",
        "what is LR?\n",
        "---\n",
        "\n",
        "Logistic regression is a statistical model used to analyze and predict binary outcomes(0 or 1). Logistic regression estimates the relationship between a dependent variable and one or more independent variables. Logistic regression is used in many fields, such as finance, marketing, healthcare, and social sciences, to model and predict binary outcomes."
      ]
    },
    {
      "cell_type": "code",
      "execution_count": null,
      "metadata": {
        "colab": {
          "base_uri": "https://localhost:8080/"
        },
        "id": "z6K0oyqaMNXx",
        "outputId": "b7b32264-cf88-4fbb-bf54-946f3d60c44b"
      },
      "outputs": [
        {
          "name": "stdout",
          "output_type": "stream",
          "text": [
            "              precision    recall  f1-score   support\n",
            "\n",
            "           0       1.00      1.00      1.00     56858\n",
            "           1       0.93      0.62      0.75       104\n",
            "\n",
            "    accuracy                           1.00     56962\n",
            "   macro avg       0.96      0.81      0.87     56962\n",
            "weighted avg       1.00      1.00      1.00     56962\n",
            "\n",
            "Accuracy :0.99923\n",
            "Precision : 0.92857\n",
            "Recall : 0.62500\n",
            "F1 : 0.74713\n",
            "\n",
            "\n"
          ]
        },
        {
          "data": {
            "text/plain": [
              "0    56858\n",
              "1      104\n",
              "dtype: int64"
            ]
          },
          "execution_count": 18,
          "metadata": {},
          "output_type": "execute_result"
        }
      ],
      "source": [
        "from sklearn.linear_model import LogisticRegression\n",
        "\n",
        "# X_train1, X_test1, y_train1, y_test1 = train_test_split(X, y, test_size=0.2)\n",
        "\n",
        "#use here avove X and y values which I have defined above..\n",
        "\n",
        "logistic = LogisticRegression(C = 0.01, penalty = 'l2')\n",
        "logistic.fit(X_train1, y_train1)\n",
        "\n",
        "# Predict from Test set\n",
        "\n",
        "y_pred1 = logistic.predict(X_test1)\n",
        "\n",
        "# Model Evolution\n",
        "\n",
        "from sklearn import metrics\n",
        "print(metrics.classification_report(y_test1, y_pred1))\n",
        "\n",
        "print('Accuracy :{0:0.5f}'.format(metrics.accuracy_score(y_pred1 , y_test1)))\n",
        "print('Precision : {0:0.5f}'.format(metrics.precision_score(y_test1 , y_pred1)))\n",
        "print('Recall : {0:0.5f}'.format(metrics.recall_score(y_test1 , y_pred1)))\n",
        "print('F1 : {0:0.5f}'.format(metrics.f1_score(y_test1 , y_pred1)))\n",
        "# print('Confusion Matrix : \\n', cnf_matrix)\n",
        "print(\"\\n\")\n",
        "\n",
        "\n",
        "# Predicted values counts for fraud and genuine of test dataset\n",
        "pd.Series(y_pred1).value_counts()\n",
        "\n",
        "\n",
        "# Actual values counts for fraud and genuine of test dataset\n",
        "pd.Series(y_test1).value_counts()\n"
      ]
    },
    {
      "cell_type": "markdown",
      "metadata": {
        "id": "u0ilEZ0USLRP"
      },
      "source": [
        "RandomForest Classifier.......(3)\n",
        "\n",
        "---  It can be used for both Classification and Regression problems in ML. It is based on the concept of ensemble learning, which is a process of combining multiple classifiers to solve a complex problem and to improve the performance of the model."
      ]
    },
    {
      "cell_type": "code",
      "execution_count": null,
      "metadata": {
        "colab": {
          "base_uri": "https://localhost:8080/"
        },
        "id": "tKvpqkj6MNSL",
        "outputId": "cfe0c997-51ef-4fd7-dbc1-4ae07fc6bb65"
      },
      "outputs": [
        {
          "name": "stdout",
          "output_type": "stream",
          "text": [
            "              precision    recall  f1-score   support\n",
            "\n",
            "           0       1.00      1.00      1.00     56858\n",
            "           1       0.93      0.74      0.82       104\n",
            "\n",
            "    accuracy                           1.00     56962\n",
            "   macro avg       0.96      0.87      0.91     56962\n",
            "weighted avg       1.00      1.00      1.00     56962\n",
            "\n",
            "Accuracy :0.99942\n",
            "AUC : 0.87014\n",
            "Precision : 0.92771\n",
            "Recall : 0.74038\n",
            "F1 : 0.82353\n",
            "\n",
            "\n"
          ]
        },
        {
          "data": {
            "text/plain": [
              "0    56858\n",
              "1      104\n",
              "dtype: int64"
            ]
          },
          "execution_count": 19,
          "metadata": {},
          "output_type": "execute_result"
        }
      ],
      "source": [
        "from sklearn.ensemble import RandomForestClassifier\n",
        "\n",
        "rfor = RandomForestClassifier(max_depth=5, random_state=0)\n",
        "\n",
        "rfor.fit(X_train1, y_train1)\n",
        "y_pred_rf = rfor.predict(X_test1)\n",
        "\n",
        "# Model Evolution\n",
        "\n",
        "from sklearn import metrics\n",
        "print(metrics.classification_report(y_test1, y_pred_rf))\n",
        "\n",
        "print('Accuracy :{0:0.5f}'.format(metrics.accuracy_score(y_pred_rf , y_test1)))\n",
        "print('AUC : {0:0.5f}'.format(metrics.roc_auc_score(y_test1 , y_pred_rf)))\n",
        "print('Precision : {0:0.5f}'.format(metrics.precision_score(y_test1 , y_pred_rf)))\n",
        "print('Recall : {0:0.5f}'.format(metrics.recall_score(y_test1 , y_pred_rf)))\n",
        "print('F1 : {0:0.5f}'.format(metrics.f1_score(y_test1 , y_pred_rf)))\n",
        "# print('Confusion Matrix : \\n', cnf_matrix)\n",
        "print(\"\\n\")\n",
        "\n",
        "\n",
        "# Predicted values counts for fraud and genuine of test dataset\n",
        "pd.Series(y_pred_rf).value_counts()\n",
        "\n",
        "\n",
        "# Actual values counts for fraud and genuine of test dataset\n",
        "pd.Series(y_test1).value_counts()"
      ]
    },
    {
      "cell_type": "markdown",
      "metadata": {
        "id": "JZqdphTVUt59"
      },
      "source": [
        "Boosting\n",
        "---Boosting is a method used in machine learning to reduce errors in predictive data analysis.\n",
        "\n",
        "---Why is boosting important?\n",
        "\n",
        "Boosting improves machine models' predictive accuracy and performance by converting multiple weak learners into a single strong learning model.\n",
        "\n",
        "\n",
        "Case - 1: XG Boost Classifier ......................(4)\n"
      ]
    },
    {
      "cell_type": "code",
      "execution_count": null,
      "metadata": {
        "colab": {
          "base_uri": "https://localhost:8080/"
        },
        "id": "Nny_lAvTQ-C0",
        "outputId": "164600ef-e372-4b3b-fe01-c6269751929f"
      },
      "outputs": [
        {
          "name": "stdout",
          "output_type": "stream",
          "text": [
            "XG Boost Classifier:\n",
            "--------------------\n",
            "The accuracy score is: 0.999\n",
            "The precision score is: 0.919\n",
            "The recall score is: 0.760\n",
            "F1 : 0.83158\n",
            "\n",
            "\n",
            "              precision    recall  f1-score   support\n",
            "\n",
            "           0       1.00      1.00      1.00     56858\n",
            "           1       0.92      0.76      0.83       104\n",
            "\n",
            "    accuracy                           1.00     56962\n",
            "   macro avg       0.96      0.88      0.92     56962\n",
            "weighted avg       1.00      1.00      1.00     56962\n",
            "\n"
          ]
        },
        {
          "data": {
            "text/plain": [
              "0    56858\n",
              "1      104\n",
              "dtype: int64"
            ]
          },
          "execution_count": 20,
          "metadata": {},
          "output_type": "execute_result"
        }
      ],
      "source": [
        "from xgboost import XGBClassifier\n",
        "from sklearn.metrics import mean_squared_error\n",
        "from sklearn.metrics import precision_score, recall_score, f1_score, roc_auc_score, accuracy_score, classification_report\n",
        "\n",
        "\n",
        "xgb_clf = XGBClassifier(max_depth = 5, learning_rate = 0.08, objective = 'binary:logistic')\n",
        "\n",
        "xgb_clf.fit(X_train1, y_train1)\n",
        "\n",
        "y_pred_xgb = xgb_clf.predict(X_test1)\n",
        "\n",
        "\n",
        "print('XG Boost Classifier:')\n",
        "print('--------------------')\n",
        "print('The accuracy score is: %.3f' % accuracy_score(y_test1, y_pred_xgb))\n",
        "print('The precision score is: %.3f' % precision_score(y_test1, y_pred_xgb))\n",
        "print('The recall score is: %.3f' % recall_score(y_test1, y_pred_xgb))\n",
        "print('F1 : {0:0.5f}'.format(metrics.f1_score(y_test1 , y_pred_xgb)))\n",
        "print(\"\\n\")\n",
        "\n",
        "print(metrics.classification_report(y_test1, y_pred_xgb))\n",
        "\n",
        "# Predicted values counts for fraud and genuine of test dataset\n",
        "pd.Series(y_pred_xgb).value_counts()\n",
        "\n",
        "\n",
        "# Actual values counts for fraud and genuine of test dataset\n",
        "pd.Series(y_test1).value_counts()\n",
        "\n"
      ]
    },
    {
      "cell_type": "markdown",
      "metadata": {
        "id": "2Z-cJwgQVkQu"
      },
      "source": [
        "case-2 AdaBoostClassifier.....(5)\n",
        "---\n",
        "\n",
        "--- It is easy to use as we do not have to do many hyperparameters tunning as compared to other algorithms.\n",
        "Adaboost increases the accuracy of the weak machine learning models."
      ]
    },
    {
      "cell_type": "code",
      "execution_count": null,
      "metadata": {
        "colab": {
          "base_uri": "https://localhost:8080/"
        },
        "id": "msu3nFPiQ9_d",
        "outputId": "1658fa0e-6065-4076-86ef-14b75bf128d9"
      },
      "outputs": [
        {
          "name": "stdout",
          "output_type": "stream",
          "text": [
            "AdaBoostClassifier:\n",
            "--------------------\n",
            "              precision    recall  f1-score   support\n",
            "\n",
            "           0       1.00      1.00      1.00     56858\n",
            "           1       0.86      0.73      0.79       104\n",
            "\n",
            "    accuracy                           1.00     56962\n",
            "   macro avg       0.93      0.87      0.90     56962\n",
            "weighted avg       1.00      1.00      1.00     56962\n",
            "\n",
            "Accuracy :0.99930\n",
            "Precision : 0.86364\n",
            "Recall : 0.73077\n",
            "F1 : 0.79167\n",
            "\n",
            "\n"
          ]
        },
        {
          "data": {
            "text/plain": [
              "0    56858\n",
              "1      104\n",
              "dtype: int64"
            ]
          },
          "execution_count": 21,
          "metadata": {},
          "output_type": "execute_result"
        }
      ],
      "source": [
        "from sklearn.ensemble import AdaBoostClassifier\n",
        "\n",
        "# Create adaboost classifer object\n",
        "abc = AdaBoostClassifier(n_estimators=50, learning_rate=1, random_state=0)\n",
        "\n",
        "# Train Adaboost Classifer\n",
        "AdaBoost = abc.fit(X_train1, y_train1)\n",
        "\n",
        "\n",
        "#Predict the response for test dataset\n",
        "y_pred_adaboost = AdaBoost.predict(X_test1)\n",
        "\n",
        "print('AdaBoostClassifier:')\n",
        "print('--------------------')\n",
        "\n",
        "# Model Evolution\n",
        "\n",
        "from sklearn import metrics\n",
        "print(metrics.classification_report(y_test1, y_pred_adaboost))\n",
        "\n",
        "print('Accuracy :{0:0.5f}'.format(metrics.accuracy_score(y_pred_adaboost , y_test1)))\n",
        "print('Precision : {0:0.5f}'.format(metrics.precision_score(y_test1 , y_pred_adaboost)))\n",
        "print('Recall : {0:0.5f}'.format(metrics.recall_score(y_test1 , y_pred_adaboost)))\n",
        "print('F1 : {0:0.5f}'.format(metrics.f1_score(y_test1 , y_pred_adaboost)))\n",
        "# print('Confusion Matrix : \\n', cnf_matrix)\n",
        "print(\"\\n\")\n",
        "\n",
        "\n",
        "# Predicted values counts for fraud and genuine of test dataset\n",
        "pd.Series(y_pred_adaboost).value_counts()\n",
        "\n",
        "\n",
        "# Actual values counts for fraud and genuine of test dataset\n",
        "pd.Series(y_test1).value_counts()\n",
        "\n"
      ]
    },
    {
      "cell_type": "markdown",
      "metadata": {
        "id": "gYwVjpGKQrFc"
      },
      "source": [
        "SVM......6\n",
        "\n",
        "----- SVM can be used for both regression and classification tasks. Classification does depending on the maximum margin between data points in high dimensional feature space."
      ]
    },
    {
      "cell_type": "code",
      "execution_count": null,
      "metadata": {
        "colab": {
          "base_uri": "https://localhost:8080/"
        },
        "id": "ro7wWpD_Qsmk",
        "outputId": "406280d1-d9f0-4f5b-dfa2-0f8749d9193c"
      },
      "outputs": [
        {
          "name": "stdout",
          "output_type": "stream",
          "text": [
            "              precision    recall  f1-score   support\n",
            "\n",
            "           0       1.00      0.90      0.95     56858\n",
            "           1       0.02      0.84      0.03       104\n",
            "\n",
            "    accuracy                           0.90     56962\n",
            "   macro avg       0.51      0.87      0.49     56962\n",
            "weighted avg       1.00      0.90      0.95     56962\n",
            "\n",
            "Accuracy :0.90257\n",
            "Precision : 0.01548\n",
            "Recall : 0.83654\n",
            "F1 : 0.03040\n",
            "\n",
            "\n"
          ]
        },
        {
          "name": "stderr",
          "output_type": "stream",
          "text": [
            "/usr/local/lib/python3.10/dist-packages/sklearn/svm/_base.py:1244: ConvergenceWarning: Liblinear failed to converge, increase the number of iterations.\n",
            "  warnings.warn(\n"
          ]
        }
      ],
      "source": [
        "from sklearn.svm import LinearSVC\n",
        "\n",
        "# instatiate a scikit-learn SVM model\n",
        "# to indicate the class imbalance at fit time, set class_weight='balanced'\n",
        "# for reproducible output across multiple function calls, set random_state to a given integer value\n",
        "sklearn_svm = LinearSVC(class_weight='balanced', random_state=31, loss=\"hinge\", fit_intercept=False)\n",
        "\n",
        "# train a linear Support Vector Machine model using Scikit-Learn\n",
        "# t0 = time.time()\n",
        "sklearn_svm.fit(X_train1, y_train1)\n",
        "\n",
        "\n",
        "import sklearn.metrics as metrics\n",
        "\n",
        "# Predict labels for the test data\n",
        "y_pred_sklearn_svm = sklearn_svm.predict(X_test1)\n",
        "\n",
        "print(metrics.classification_report(y_test1, y_pred_sklearn_svm))\n",
        "\n",
        "print('Accuracy :{0:0.5f}'.format(metrics.accuracy_score(y_pred_sklearn_svm , y_test1)))\n",
        "print('Precision : {0:0.5f}'.format(metrics.precision_score(y_test1 , y_pred_sklearn_svm)))\n",
        "print('Recall : {0:0.5f}'.format(metrics.recall_score(y_test1 , y_pred_sklearn_svm)))\n",
        "print('F1 : {0:0.5f}'.format(metrics.f1_score(y_test1 , y_pred_sklearn_svm)))\n",
        "print(\"\\n\")\n",
        "\n",
        "\n"
      ]
    },
    {
      "cell_type": "markdown",
      "metadata": {
        "id": "vT7dkVdOYcHc"
      },
      "source": [
        "Have shown the models performance after Balancing data using\n",
        "SMOTE Method...\n",
        "\n",
        "Logistic regression with SMOTE...(1)\n",
        "\n",
        "---\n",
        "\n"
      ]
    },
    {
      "cell_type": "code",
      "execution_count": 26,
      "metadata": {
        "colab": {
          "base_uri": "https://localhost:8080/"
        },
        "id": "DX3KZXjTQ98W",
        "outputId": "5bad7e76-62bb-4d9d-93ae-4d5cf8292e0e"
      },
      "outputs": [
        {
          "name": "stdout",
          "output_type": "stream",
          "text": [
            "Resampled dataset shape Counter({0: 227457, 1: 227457})\n",
            "              precision    recall  f1-score   support\n",
            "\n",
            "           0       1.00      0.97      0.99     56858\n",
            "           1       0.06      0.90      0.11       104\n",
            "\n",
            "    accuracy                           0.97     56962\n",
            "   macro avg       0.53      0.94      0.55     56962\n",
            "weighted avg       1.00      0.97      0.98     56962\n",
            "\n",
            "Accuracy :0.97189\n",
            "AUC : 0.93793\n",
            "Precision : 0.05579\n",
            "Recall : 0.90385\n",
            "F1 : 0.10509\n"
          ]
        },
        {
          "data": {
            "text/plain": [
              "0    56858\n",
              "1      104\n",
              "dtype: int64"
            ]
          },
          "execution_count": 26,
          "metadata": {},
          "output_type": "execute_result"
        }
      ],
      "source": [
        "from sklearn.metrics import precision_score, recall_score, f1_score, roc_auc_score, accuracy_score, classification_report\n",
        "\n",
        "from imblearn.over_sampling import SMOTE\n",
        "from collections import Counter\n",
        "\n",
        "\n",
        "## Logistic Regression with SMOTE data\n",
        "\n",
        "# AS earlier we did\n",
        "\n",
        "# drop_list1 = ['Time','V28','V27','V26','V25','V24','V23','V22','V20','V15','V13','V8']\n",
        "\n",
        "# df_drop_data = df.drop(drop_list1,axis=1)\n",
        "# y = df_drop_data['Class'].values #target\n",
        "# X = df_drop_data.drop(['Class'],axis=1).values #features\n",
        "# X_train1, X_test1, y_train1, y_test1 = train_test_split(X, y, test_size=0.2)\n",
        "\n",
        "smote = SMOTE(random_state=42)\n",
        "X_train_smote, y_train_smote = smote.fit_resample(X_train1, y_train1)\n",
        "\n",
        "print('Resampled dataset shape %s' % Counter(y_train_smote))\n",
        "\n",
        "# SMOTE Sampling with Logistic Regression\n",
        "logreg_2 = LogisticRegression(max_iter=1000)\n",
        "logreg_2.fit(X_train_smote, y_train_smote)\n",
        "\n",
        "y_pred_smote = logreg_2.predict(X_test1)\n",
        "\n",
        "\n",
        "print(metrics.classification_report(y_test1, y_pred_smote))\n",
        "\n",
        "\n",
        "print('Accuracy :{0:0.5f}'.format(metrics.accuracy_score(y_test1 , y_pred_smote)))\n",
        "print('AUC : {0:0.5f}'.format(metrics.roc_auc_score(y_test1 , y_pred_smote)))\n",
        "print('Precision : {0:0.5f}'.format(metrics.precision_score(y_test1 , y_pred_smote)))\n",
        "print('Recall : {0:0.5f}'.format(metrics.recall_score(y_test1 , y_pred_smote)))\n",
        "print('F1 : {0:0.5f}'.format(metrics.f1_score(y_test1 , y_pred_smote)))\n",
        "\n",
        "\n",
        "# Predicted values counts for fraud and genuine of test dataset\n",
        "pd.Series(y_pred_smote).value_counts()\n",
        "\n",
        "# Actual values counts for fraud and genuine of test dataset\n",
        "pd.Series(y_test1).value_counts()"
      ]
    },
    {
      "cell_type": "code",
      "execution_count": 25,
      "metadata": {
        "colab": {
          "base_uri": "https://localhost:8080/"
        },
        "id": "ddBZgPP_8sX1",
        "outputId": "0114aa47-933d-413b-be5a-c0c51ccf0e7a"
      },
      "outputs": [
        {
          "data": {
            "text/plain": [
              "Index(['Time', 'V1', 'V2', 'V3', 'V4', 'V5', 'V6', 'V7', 'V8', 'V9', 'V10',\n",
              "       'V11', 'V12', 'V13', 'V14', 'V15', 'V16', 'V17', 'V18', 'V19', 'V20',\n",
              "       'V21', 'V22', 'V23', 'V24', 'V25', 'V26', 'V27', 'V28', 'Class',\n",
              "       'scaled_Amount'],\n",
              "      dtype='object')"
            ]
          },
          "execution_count": 25,
          "metadata": {},
          "output_type": "execute_result"
        }
      ],
      "source": [
        "df.columns"
      ]
    },
    {
      "cell_type": "markdown",
      "metadata": {
        "id": "7RIsebV3afVv"
      },
      "source": [
        "#  GaussianNB with SMOTE......(2)"
      ]
    },
    {
      "cell_type": "code",
      "execution_count": 27,
      "metadata": {
        "colab": {
          "base_uri": "https://localhost:8080/"
        },
        "id": "gBkyyM32Q95c",
        "outputId": "e80951b9-4615-4552-c942-0b2c6b3a80ae"
      },
      "outputs": [
        {
          "name": "stdout",
          "output_type": "stream",
          "text": [
            "              precision    recall  f1-score   support\n",
            "\n",
            "           0       1.00      0.98      0.99     56858\n",
            "           1       0.08      0.87      0.15       104\n",
            "\n",
            "    accuracy                           0.98     56962\n",
            "   macro avg       0.54      0.92      0.57     56962\n",
            "weighted avg       1.00      0.98      0.99     56962\n",
            "\n",
            "Accuracy :0.98137\n",
            "AUC : 0.92349\n",
            "Precision : 0.07916\n",
            "Recall : 0.86538\n",
            "F1 : 0.14504\n",
            "\n",
            "\n"
          ]
        },
        {
          "data": {
            "text/plain": [
              "0    56858\n",
              "1      104\n",
              "dtype: int64"
            ]
          },
          "execution_count": 27,
          "metadata": {},
          "output_type": "execute_result"
        }
      ],
      "source": [
        "gaussian_2 = GaussianNB()\n",
        "gaussian_2.fit(X_train_smote, y_train_smote)\n",
        "\n",
        "# Predict from Test set\n",
        "\n",
        "gaussian_smote_pred = gaussian_2.predict(X_test1)\n",
        "\n",
        "# Model Evolution\n",
        "\n",
        "from sklearn import metrics\n",
        "print(metrics.classification_report(y_test1, gaussian_smote_pred))\n",
        "\n",
        "print('Accuracy :{0:0.5f}'.format(metrics.accuracy_score(gaussian_smote_pred , y_test1)))\n",
        "print('AUC : {0:0.5f}'.format(metrics.roc_auc_score(y_test1 , gaussian_smote_pred)))\n",
        "print('Precision : {0:0.5f}'.format(metrics.precision_score(y_test1 , gaussian_smote_pred)))\n",
        "print('Recall : {0:0.5f}'.format(metrics.recall_score(y_test1 , gaussian_smote_pred)))\n",
        "print('F1 : {0:0.5f}'.format(metrics.f1_score(y_test1 , gaussian_smote_pred)))\n",
        "# print('Confusion Matrix : \\n', cnf_matrix)\n",
        "print(\"\\n\")\n",
        "\n",
        "\n",
        "# Predicted values counts for fraud and genuine of test dataset\n",
        "pd.Series(gaussian_smote_pred).value_counts()\n",
        "\n",
        "\n",
        "# Actual values counts for fraud and genuine of test dataset\n",
        "pd.Series(y_test1).value_counts()"
      ]
    },
    {
      "cell_type": "markdown",
      "metadata": {
        "id": "qQbSj4ODaqg9"
      },
      "source": [
        "RandomForestClassifier with SMOTE....(3)"
      ]
    },
    {
      "cell_type": "code",
      "execution_count": 28,
      "metadata": {
        "colab": {
          "base_uri": "https://localhost:8080/"
        },
        "id": "FNT6LK5lfYtV",
        "outputId": "1c2883a3-d928-4dbe-b78d-69b91a45e740"
      },
      "outputs": [
        {
          "name": "stdout",
          "output_type": "stream",
          "text": [
            "              precision    recall  f1-score   support\n",
            "\n",
            "           0       1.00      0.99      1.00     56858\n",
            "           1       0.24      0.89      0.38       104\n",
            "\n",
            "    accuracy                           0.99     56962\n",
            "   macro avg       0.62      0.94      0.69     56962\n",
            "weighted avg       1.00      0.99      1.00     56962\n",
            "\n",
            "Accuracy :0.99461\n",
            "AUC : 0.94451\n",
            "Precision : 0.23907\n",
            "Recall : 0.89423\n",
            "F1 : 0.37728\n",
            "\n",
            "\n"
          ]
        },
        {
          "data": {
            "text/plain": [
              "0    56858\n",
              "1      104\n",
              "dtype: int64"
            ]
          },
          "execution_count": 28,
          "metadata": {},
          "output_type": "execute_result"
        }
      ],
      "source": [
        "rfor_2 = RandomForestClassifier(max_depth=5, random_state=0)\n",
        "\n",
        "rfor_2.fit(X_train_smote, y_train_smote)\n",
        "y_pred_rf_smote = rfor_2.predict(X_test1)\n",
        "\n",
        "# Model Evolution\n",
        "\n",
        "from sklearn import metrics\n",
        "print(metrics.classification_report(y_test1, y_pred_rf_smote))\n",
        "\n",
        "print('Accuracy :{0:0.5f}'.format(metrics.accuracy_score(y_pred_rf_smote , y_test1)))\n",
        "print('AUC : {0:0.5f}'.format(metrics.roc_auc_score(y_test1 , y_pred_rf_smote)))\n",
        "print('Precision : {0:0.5f}'.format(metrics.precision_score(y_test1 , y_pred_rf_smote)))\n",
        "print('Recall : {0:0.5f}'.format(metrics.recall_score(y_test1 , y_pred_rf_smote)))\n",
        "print('F1 : {0:0.5f}'.format(metrics.f1_score(y_test1 , y_pred_rf_smote)))\n",
        "# print('Confusion Matrix : \\n', cnf_matrix)\n",
        "print(\"\\n\")\n",
        "\n",
        "\n",
        "# Predicted values counts for fraud and genuine of test dataset\n",
        "pd.Series(y_pred_rf_smote).value_counts()\n",
        "\n",
        "\n",
        "# Actual values counts for fraud and genuine of test dataset\n",
        "pd.Series(y_test1).value_counts()"
      ]
    },
    {
      "cell_type": "markdown",
      "metadata": {
        "id": "refMb1pKbBpH"
      },
      "source": [
        "XG Boost Classifier with SMOTE....(4)"
      ]
    },
    {
      "cell_type": "code",
      "execution_count": 29,
      "metadata": {
        "colab": {
          "base_uri": "https://localhost:8080/"
        },
        "id": "nkk4_J-Ea5w6",
        "outputId": "0554b24d-ddb6-45ed-8ac2-1c83d8661cb4"
      },
      "outputs": [
        {
          "name": "stdout",
          "output_type": "stream",
          "text": [
            "XG Boost Classifier:\n",
            "--------------------\n",
            "The accuracy score is: 0.992\n",
            "The precision score is: 0.168\n",
            "The recall score is: 0.894\n",
            "AUC : 0.94305\n",
            "F1 : 0.28225\n",
            "\n",
            "\n",
            "              precision    recall  f1-score   support\n",
            "\n",
            "           0       1.00      0.99      1.00     56858\n",
            "           1       0.17      0.89      0.28       104\n",
            "\n",
            "    accuracy                           0.99     56962\n",
            "   macro avg       0.58      0.94      0.64     56962\n",
            "weighted avg       1.00      0.99      0.99     56962\n",
            "\n"
          ]
        },
        {
          "data": {
            "text/plain": [
              "0    56858\n",
              "1      104\n",
              "dtype: int64"
            ]
          },
          "execution_count": 29,
          "metadata": {},
          "output_type": "execute_result"
        }
      ],
      "source": [
        "from xgboost import XGBClassifier\n",
        "\n",
        "xgb_clf_smt = XGBClassifier(max_depth = 5, learning_rate = 0.08, objective = 'binary:logistic')\n",
        "\n",
        "xgb_clf_smt.fit(X_train_smote, y_train_smote)\n",
        "\n",
        "y_pred_xgb_smt = xgb_clf_smt.predict(X_test1)\n",
        "\n",
        "\n",
        "print('XG Boost Classifier:')\n",
        "print('--------------------')\n",
        "print('The accuracy score is: %.3f' % accuracy_score(y_test1, y_pred_xgb_smt))\n",
        "print('The precision score is: %.3f' % precision_score(y_test1, y_pred_xgb_smt))\n",
        "print('The recall score is: %.3f' % recall_score(y_test1, y_pred_xgb_smt))\n",
        "print('AUC : {0:0.5f}'.format(metrics.roc_auc_score(y_test1 , y_pred_xgb_smt)))\n",
        "print('F1 : {0:0.5f}'.format(metrics.f1_score(y_test1 , y_pred_xgb_smt)))\n",
        "print(\"\\n\")\n",
        "\n",
        "print(metrics.classification_report(y_test1, y_pred_xgb_smt))\n",
        "\n",
        "# Predicted values counts for fraud and genuine of test dataset\n",
        "pd.Series(y_pred_xgb_smt).value_counts()\n",
        "\n",
        "\n",
        "# Actual values counts for fraud and genuine of test dataset\n",
        "pd.Series(y_test1).value_counts()\n",
        "\n"
      ]
    },
    {
      "cell_type": "markdown",
      "metadata": {
        "id": "AA6CnutBbK69"
      },
      "source": [
        "AdaBoostClassifier with SMOTE.....(5)"
      ]
    },
    {
      "cell_type": "code",
      "execution_count": 30,
      "metadata": {
        "colab": {
          "base_uri": "https://localhost:8080/"
        },
        "id": "Qx-xyhj2aetG",
        "outputId": "c543cb1a-9c67-476e-f719-34090bbee533"
      },
      "outputs": [
        {
          "name": "stdout",
          "output_type": "stream",
          "text": [
            "AdaBoostClassifier:\n",
            "--------------------\n",
            "              precision    recall  f1-score   support\n",
            "\n",
            "           0       1.00      0.97      0.99     56858\n",
            "           1       0.06      0.91      0.11       104\n",
            "\n",
            "    accuracy                           0.97     56962\n",
            "   macro avg       0.53      0.94      0.55     56962\n",
            "weighted avg       1.00      0.97      0.98     56962\n",
            "\n",
            "Accuracy :0.97326\n",
            "AUC : 0.94342\n",
            "Precision : 0.05904\n",
            "Recall : 0.91346\n",
            "F1 : 0.11092\n",
            "\n",
            "\n"
          ]
        },
        {
          "data": {
            "text/plain": [
              "0    56858\n",
              "1      104\n",
              "dtype: int64"
            ]
          },
          "execution_count": 30,
          "metadata": {},
          "output_type": "execute_result"
        }
      ],
      "source": [
        "from sklearn.ensemble import AdaBoostClassifier\n",
        "\n",
        "# Create adaboost classifer object\n",
        "abc_smt = AdaBoostClassifier(n_estimators=50, learning_rate=1, random_state=0)\n",
        "\n",
        "# Train Adaboost Classifer\n",
        "AdaBoost_smt = abc_smt.fit(X_train_smote, y_train_smote)\n",
        "\n",
        "\n",
        "#Predict the response for test dataset\n",
        "y_pred_adaboost_smt = AdaBoost_smt.predict(X_test1)\n",
        "\n",
        "print('AdaBoostClassifier:')\n",
        "print('--------------------')\n",
        "\n",
        "# Model Evolution\n",
        "\n",
        "from sklearn import metrics\n",
        "print(metrics.classification_report(y_test1, y_pred_adaboost_smt))\n",
        "\n",
        "print('Accuracy :{0:0.5f}'.format(metrics.accuracy_score(y_pred_adaboost_smt , y_test1)))\n",
        "print('AUC : {0:0.5f}'.format(metrics.roc_auc_score(y_test1 , y_pred_adaboost_smt)))\n",
        "print('Precision : {0:0.5f}'.format(metrics.precision_score(y_test1 , y_pred_adaboost_smt)))\n",
        "print('Recall : {0:0.5f}'.format(metrics.recall_score(y_test1 , y_pred_adaboost_smt)))\n",
        "print('F1 : {0:0.5f}'.format(metrics.f1_score(y_test1 , y_pred_adaboost_smt)))\n",
        "# print('Confusion Matrix : \\n', cnf_matrix)\n",
        "print(\"\\n\")\n",
        "\n",
        "\n",
        "# Predicted values counts for fraud and genuine of test dataset\n",
        "pd.Series(y_pred_adaboost_smt).value_counts()\n",
        "\n",
        "\n",
        "# Actual values counts for fraud and genuine of test dataset\n",
        "pd.Series(y_test1).value_counts()\n",
        "\n"
      ]
    },
    {
      "cell_type": "markdown",
      "metadata": {
        "id": "zWRgUX_Ded1E"
      },
      "source": [
        "Support vector classifier with SMOTE...(6)"
      ]
    },
    {
      "cell_type": "code",
      "execution_count": 31,
      "metadata": {
        "colab": {
          "base_uri": "https://localhost:8080/"
        },
        "id": "_Hj9gb5iaeqh",
        "outputId": "0c9f0462-571b-48da-8fd4-5ed8271a4c23"
      },
      "outputs": [
        {
          "name": "stderr",
          "output_type": "stream",
          "text": [
            "/usr/local/lib/python3.10/dist-packages/sklearn/svm/_base.py:1244: ConvergenceWarning: Liblinear failed to converge, increase the number of iterations.\n",
            "  warnings.warn(\n"
          ]
        },
        {
          "name": "stdout",
          "output_type": "stream",
          "text": [
            "              precision    recall  f1-score   support\n",
            "\n",
            "           0       1.00      0.84      0.91     56858\n",
            "           1       0.01      0.94      0.02       104\n",
            "\n",
            "    accuracy                           0.84     56962\n",
            "   macro avg       0.51      0.89      0.47     56962\n",
            "weighted avg       1.00      0.84      0.91     56962\n",
            "\n",
            "Accuracy :0.84075\n",
            "AUC : 0.89144\n",
            "Precision : 0.01070\n",
            "Recall : 0.94231\n",
            "F1 : 0.02115\n",
            "\n",
            "\n"
          ]
        }
      ],
      "source": [
        "from sklearn.svm import LinearSVC\n",
        "\n",
        "# instatiate a scikit-learn SVM model\n",
        "# to indicate the class imbalance at fit time, set class_weight='balanced'\n",
        "# for reproducible output across multiple function calls, set random_state to a given integer value\n",
        "sklearn_svm_smt = LinearSVC(class_weight='balanced', random_state=31, loss=\"hinge\", fit_intercept=False)\n",
        "\n",
        "# train a linear Support Vector Machine model using Scikit-Learn\n",
        "# t0 = time.time()\n",
        "sklearn_svm_smt.fit(X_train_smote, y_train_smote)\n",
        "\n",
        "\n",
        "import sklearn.metrics as metrics\n",
        "\n",
        "# Predict labels for the test data\n",
        "y_pred_svm = sklearn_svm_smt.predict(X_test1)\n",
        "\n",
        "print(metrics.classification_report(y_test1, y_pred_svm))\n",
        "\n",
        "print('Accuracy :{0:0.5f}'.format(metrics.accuracy_score(y_pred_svm , y_test1)))\n",
        "print('AUC : {0:0.5f}'.format(metrics.roc_auc_score(y_test1 , y_pred_svm)))\n",
        "print('Precision : {0:0.5f}'.format(metrics.precision_score(y_test1 , y_pred_svm)))\n",
        "print('Recall : {0:0.5f}'.format(metrics.recall_score(y_test1 , y_pred_svm)))\n",
        "print('F1 : {0:0.5f}'.format(metrics.f1_score(y_test1 , y_pred_svm)))\n",
        "print(\"\\n\")\n",
        "\n",
        "\n"
      ]
    },
    {
      "cell_type": "markdown",
      "metadata": {
        "id": "xGCAYvXAAhQS"
      },
      "source": [
        "From above comparision we can say that the model has a good accuracy with Random forest and Boosting algorithms"
      ]
    },
    {
      "cell_type": "code",
      "execution_count": null,
      "metadata": {
        "id": "vy_pyzVYCfh5"
      },
      "outputs": [],
      "source": [
        "......................END....................."
      ]
    }
  ],
  "metadata": {
    "accelerator": "GPU",
    "colab": {
      "gpuType": "T4",
      "provenance": []
    },
    "kernelspec": {
      "display_name": "Python 3",
      "name": "python3"
    },
    "language_info": {
      "name": "python"
    }
  },
  "nbformat": 4,
  "nbformat_minor": 0
}
